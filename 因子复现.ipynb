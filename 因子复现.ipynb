{
 "cells": [
  {
   "cell_type": "code",
   "execution_count": 11,
   "metadata": {
    "collapsed": true
   },
   "outputs": [],
   "source": [
    "import pandas as pd\n",
    "from dw_client import *\n",
    "from jqdatasdk import *"
   ]
  },
  {
   "cell_type": "code",
   "execution_count": 14,
   "outputs": [],
   "source": [
    "def get_df_quality(stocks_list,context):\n",
    "    # 因子【质量】\n",
    "    # 获取质量因子数据\n",
    "    ######################################\n",
    "    # 获取GPOA数据\n",
    "    def get_df_gpoa(stocks_list,context):\n",
    "        # 获取上年末的毛利润与上年末的总资产\n",
    "        q = query(income.operating_profit,balance.code,balance.total_assets).filter(balance.code.in_(stocks_list))\n",
    "        context_s = pd.Timestamp(context)\n",
    "        year = context_s.year - 1\n",
    "        # 获取上年末数据\n",
    "        df_gpoa = diewei.get_fundamentals(q, statDate = str(year))\n",
    "        # 计算gpoa\n",
    "        df_gpoa['gpoa'] = df_gpoa['operating_profit']/df_gpoa['total_assets']\n",
    "        df_gpoa.index = df_gpoa['code']\n",
    "        # 删除无用数据\n",
    "        del df_gpoa['code']\n",
    "        del df_gpoa['operating_profit']\n",
    "        del df_gpoa['total_assets']\n",
    "        return df_gpoa\n",
    "\n",
    "\n",
    "    # 获取ACC数据\n",
    "    def get_df_acc(stocks_list,context):\n",
    "        # 获取上年末的净利润、上年末的经营性现金流和上年末的总资产\n",
    "        q = query(income.net_profit,cash_flow.net_operate_cash_flow,balance.code,balance.total_assets).filter(balance.code.in_(stocks_list))\n",
    "        context_s = pd.Timestamp(context)\n",
    "        year = context_s.year - 1\n",
    "        # 获取上年末数据\n",
    "        df_acc = diewei.get_fundamentals(q, statDate = str(year))\n",
    "        # 计算acc\n",
    "        df_acc['acc'] = (df_acc['net_profit'] - df_acc['net_operate_cash_flow'])/df_acc['total_assets']\n",
    "        df_acc.index = df_acc['code']\n",
    "        # 删除无用数据\n",
    "        del df_acc['code']\n",
    "        del df_acc['net_profit']\n",
    "        del df_acc['net_operate_cash_flow']\n",
    "        del df_acc['total_assets']\n",
    "        return df_acc\n",
    "    ######################################\n",
    "    # 获取gpoa数据\n",
    "    df_gpoa = get_df_gpoa(stocks_list,context)\n",
    "    # 获取acc数据\n",
    "    df_acc = get_df_acc(stocks_list,context)\n",
    "    # 合并\n",
    "    df_quality = pd.concat([df_gpoa,df_acc],axis = 1)\n",
    "    # 计算质量因子（仿照《巴菲特的阿尔法——来自中国股票市场的实证研究》）\n",
    "    df_quality['df_gpoa_rank'] = df_quality['gpoa'].rank(ascending = True,method = 'dense')\n",
    "    df_quality['df_acc_rank'] = df_quality['acc'].rank(ascending = False,method = 'dense')\n",
    "    df_quality['z_gpoa'] = (df_quality['df_gpoa_rank'] - df_quality['df_gpoa_rank'].mean())/df_quality['df_gpoa_rank'].std()\n",
    "    df_quality['z_acc'] = (df_quality['df_acc_rank'] - df_quality['df_acc_rank'].mean())/df_quality['df_acc_rank'].std()\n",
    "    df_quality['quality'] = df_quality['z_gpoa'] + df_quality['z_acc']\n",
    "    df_quality['z_quality'] = (df_quality['quality'] - df_quality['quality'].mean())/df_quality['quality'].std()\n",
    "    df_quality = pd.DataFrame(df_quality['z_quality'])\n",
    "\n",
    "    return df_quality"
   ],
   "metadata": {
    "collapsed": false,
    "pycharm": {
     "name": "#%%\n"
    }
   }
  },
  {
   "cell_type": "code",
   "execution_count": 3,
   "outputs": [
    {
     "name": "stdout",
     "output_type": "stream",
     "text": [
      "所有因子导入\n"
     ]
    }
   ],
   "source": [
    "import pickle\n",
    "\n",
    "with open('D:/alpha//量化投资//Z_Score_2016_2020.pkl', 'rb') as f:\n",
    "    fac_data = pickle.load(f)\n",
    "print('所有因子导入')"
   ],
   "metadata": {
    "collapsed": false,
    "pycharm": {
     "name": "#%%\n"
    }
   }
  },
  {
   "cell_type": "code",
   "execution_count": 6,
   "outputs": [],
   "source": [
    "with open('D://alpha//stock_data//zz800_stock_list.pkl', 'rb') as f:\n",
    "    zz800 = pickle.load(f)"
   ],
   "metadata": {
    "collapsed": false,
    "pycharm": {
     "name": "#%%\n"
    }
   }
  },
  {
   "cell_type": "code",
   "execution_count": 15,
   "outputs": [
    {
     "data": {
      "text/plain": "             z_quality\ncode                  \n000001.XSHE  -1.376940\n000002.XSHE  -0.427326\n000008.XSHE  -0.988461\n000009.XSHE  -0.656097\n000012.XSHE   0.189923\n000021.XSHE  -0.569768\n000027.XSHE   0.237403\n000028.XSHE   0.690628\n000031.XSHE  -1.540964\n000039.XSHE  -1.553913\n000046.XSHE  -1.199966\n000050.XSHE   0.276251\n000060.XSHE  -1.204283\n000061.XSHE  -0.112227\n000062.XSHE  -0.263302\n000063.XSHE  -0.690628\n000066.XSHE  -0.435959\n000069.XSHE  -0.789906\n000078.XSHE  -0.776957\n000089.XSHE   1.230181\n000090.XSHE  -1.765418\n000100.XSHE  -0.306466\n000156.XSHE   0.681995\n000157.XSHE  -2.106416\n000158.XSHE  -2.287705\n000166.XSHE   1.493483\n000301.XSHE   0.284884\n000333.XSHE   2.257491\n000338.XSHE  -0.008633\n000400.XSHE  -0.319415\n...                ...\n601939.XSHG  -0.517971\n601958.XSHG  -1.269029\n601969.XSHG  -1.843114\n601985.XSHG  -0.017266\n601988.XSHG  -0.448908\n601989.XSHG  -1.260396\n601992.XSHG  -1.333775\n601998.XSHG  -1.450319\n603000.XSHG   0.500705\n603019.XSHG  -1.234498\n603077.XSHG  -0.513655\n603198.XSHG   0.405744\n603288.XSHG   0.608616\n603328.XSHG   1.087739\n603338.XSHG   0.479123\n603355.XSHG   1.454635\n603369.XSHG   1.001411\n603377.XSHG   1.515065\n603568.XSHG   1.622976\n603589.XSHG   0.669046\n603799.XSHG  -1.981239\n603806.XSHG   0.202872\n603866.XSHG   1.890594\n603883.XSHG   0.375529\n603885.XSHG   1.748152\n603899.XSHG   1.635925\n603993.XSHG  -0.371213\n601360.XSHG   0.142442\n001872.XSHE   1.627292\n001914.XSHE  -0.681995\n\n[669 rows x 1 columns]",
      "text/html": "<div>\n<style scoped>\n    .dataframe tbody tr th:only-of-type {\n        vertical-align: middle;\n    }\n\n    .dataframe tbody tr th {\n        vertical-align: top;\n    }\n\n    .dataframe thead th {\n        text-align: right;\n    }\n</style>\n<table border=\"1\" class=\"dataframe\">\n  <thead>\n    <tr style=\"text-align: right;\">\n      <th></th>\n      <th>z_quality</th>\n    </tr>\n    <tr>\n      <th>code</th>\n      <th></th>\n    </tr>\n  </thead>\n  <tbody>\n    <tr>\n      <th>000001.XSHE</th>\n      <td>-1.376940</td>\n    </tr>\n    <tr>\n      <th>000002.XSHE</th>\n      <td>-0.427326</td>\n    </tr>\n    <tr>\n      <th>000008.XSHE</th>\n      <td>-0.988461</td>\n    </tr>\n    <tr>\n      <th>000009.XSHE</th>\n      <td>-0.656097</td>\n    </tr>\n    <tr>\n      <th>000012.XSHE</th>\n      <td>0.189923</td>\n    </tr>\n    <tr>\n      <th>000021.XSHE</th>\n      <td>-0.569768</td>\n    </tr>\n    <tr>\n      <th>000027.XSHE</th>\n      <td>0.237403</td>\n    </tr>\n    <tr>\n      <th>000028.XSHE</th>\n      <td>0.690628</td>\n    </tr>\n    <tr>\n      <th>000031.XSHE</th>\n      <td>-1.540964</td>\n    </tr>\n    <tr>\n      <th>000039.XSHE</th>\n      <td>-1.553913</td>\n    </tr>\n    <tr>\n      <th>000046.XSHE</th>\n      <td>-1.199966</td>\n    </tr>\n    <tr>\n      <th>000050.XSHE</th>\n      <td>0.276251</td>\n    </tr>\n    <tr>\n      <th>000060.XSHE</th>\n      <td>-1.204283</td>\n    </tr>\n    <tr>\n      <th>000061.XSHE</th>\n      <td>-0.112227</td>\n    </tr>\n    <tr>\n      <th>000062.XSHE</th>\n      <td>-0.263302</td>\n    </tr>\n    <tr>\n      <th>000063.XSHE</th>\n      <td>-0.690628</td>\n    </tr>\n    <tr>\n      <th>000066.XSHE</th>\n      <td>-0.435959</td>\n    </tr>\n    <tr>\n      <th>000069.XSHE</th>\n      <td>-0.789906</td>\n    </tr>\n    <tr>\n      <th>000078.XSHE</th>\n      <td>-0.776957</td>\n    </tr>\n    <tr>\n      <th>000089.XSHE</th>\n      <td>1.230181</td>\n    </tr>\n    <tr>\n      <th>000090.XSHE</th>\n      <td>-1.765418</td>\n    </tr>\n    <tr>\n      <th>000100.XSHE</th>\n      <td>-0.306466</td>\n    </tr>\n    <tr>\n      <th>000156.XSHE</th>\n      <td>0.681995</td>\n    </tr>\n    <tr>\n      <th>000157.XSHE</th>\n      <td>-2.106416</td>\n    </tr>\n    <tr>\n      <th>000158.XSHE</th>\n      <td>-2.287705</td>\n    </tr>\n    <tr>\n      <th>000166.XSHE</th>\n      <td>1.493483</td>\n    </tr>\n    <tr>\n      <th>000301.XSHE</th>\n      <td>0.284884</td>\n    </tr>\n    <tr>\n      <th>000333.XSHE</th>\n      <td>2.257491</td>\n    </tr>\n    <tr>\n      <th>000338.XSHE</th>\n      <td>-0.008633</td>\n    </tr>\n    <tr>\n      <th>000400.XSHE</th>\n      <td>-0.319415</td>\n    </tr>\n    <tr>\n      <th>...</th>\n      <td>...</td>\n    </tr>\n    <tr>\n      <th>601939.XSHG</th>\n      <td>-0.517971</td>\n    </tr>\n    <tr>\n      <th>601958.XSHG</th>\n      <td>-1.269029</td>\n    </tr>\n    <tr>\n      <th>601969.XSHG</th>\n      <td>-1.843114</td>\n    </tr>\n    <tr>\n      <th>601985.XSHG</th>\n      <td>-0.017266</td>\n    </tr>\n    <tr>\n      <th>601988.XSHG</th>\n      <td>-0.448908</td>\n    </tr>\n    <tr>\n      <th>601989.XSHG</th>\n      <td>-1.260396</td>\n    </tr>\n    <tr>\n      <th>601992.XSHG</th>\n      <td>-1.333775</td>\n    </tr>\n    <tr>\n      <th>601998.XSHG</th>\n      <td>-1.450319</td>\n    </tr>\n    <tr>\n      <th>603000.XSHG</th>\n      <td>0.500705</td>\n    </tr>\n    <tr>\n      <th>603019.XSHG</th>\n      <td>-1.234498</td>\n    </tr>\n    <tr>\n      <th>603077.XSHG</th>\n      <td>-0.513655</td>\n    </tr>\n    <tr>\n      <th>603198.XSHG</th>\n      <td>0.405744</td>\n    </tr>\n    <tr>\n      <th>603288.XSHG</th>\n      <td>0.608616</td>\n    </tr>\n    <tr>\n      <th>603328.XSHG</th>\n      <td>1.087739</td>\n    </tr>\n    <tr>\n      <th>603338.XSHG</th>\n      <td>0.479123</td>\n    </tr>\n    <tr>\n      <th>603355.XSHG</th>\n      <td>1.454635</td>\n    </tr>\n    <tr>\n      <th>603369.XSHG</th>\n      <td>1.001411</td>\n    </tr>\n    <tr>\n      <th>603377.XSHG</th>\n      <td>1.515065</td>\n    </tr>\n    <tr>\n      <th>603568.XSHG</th>\n      <td>1.622976</td>\n    </tr>\n    <tr>\n      <th>603589.XSHG</th>\n      <td>0.669046</td>\n    </tr>\n    <tr>\n      <th>603799.XSHG</th>\n      <td>-1.981239</td>\n    </tr>\n    <tr>\n      <th>603806.XSHG</th>\n      <td>0.202872</td>\n    </tr>\n    <tr>\n      <th>603866.XSHG</th>\n      <td>1.890594</td>\n    </tr>\n    <tr>\n      <th>603883.XSHG</th>\n      <td>0.375529</td>\n    </tr>\n    <tr>\n      <th>603885.XSHG</th>\n      <td>1.748152</td>\n    </tr>\n    <tr>\n      <th>603899.XSHG</th>\n      <td>1.635925</td>\n    </tr>\n    <tr>\n      <th>603993.XSHG</th>\n      <td>-0.371213</td>\n    </tr>\n    <tr>\n      <th>601360.XSHG</th>\n      <td>0.142442</td>\n    </tr>\n    <tr>\n      <th>001872.XSHE</th>\n      <td>1.627292</td>\n    </tr>\n    <tr>\n      <th>001914.XSHE</th>\n      <td>-0.681995</td>\n    </tr>\n  </tbody>\n</table>\n<p>669 rows × 1 columns</p>\n</div>"
     },
     "execution_count": 15,
     "metadata": {},
     "output_type": "execute_result"
    }
   ],
   "source": [
    "get_df_quality(zz800,'2016-01-04')"
   ],
   "metadata": {
    "collapsed": false,
    "pycharm": {
     "name": "#%%\n"
    }
   }
  },
  {
   "cell_type": "code",
   "execution_count": 16,
   "outputs": [
    {
     "data": {
      "text/plain": "             z_quality\ncode                  \n000001.XSHE  -1.311778\n000002.XSHE  -0.304648\n000006.XSHE  -0.999962\n000009.XSHE  -0.587791\n000012.XSHE   0.379914\n000021.XSHE  -0.437259\n000027.XSHE   0.415755\n000028.XSHE   0.817173\n000030.XSHE  -0.222214\n000031.XSHE  -1.408548\n000039.XSHE  -1.455142\n000046.XSHE  -1.057307\n000049.XSHE   2.351165\n000050.XSHE   0.293896\n000060.XSHE  -1.093148\n000061.XSHE  -0.053761\n000062.XSHE  -0.154116\n000063.XSHE  -0.580623\n000066.XSHE  -0.354825\n000069.XSHE  -0.713234\n000078.XSHE  -0.670225\n000088.XSHE  -1.007130\n000090.XSHE  -1.691692\n000099.XSHE   0.408587\n000100.XSHE  -0.172036\n000156.XSHE   0.842262\n000157.XSHE  -2.057269\n000166.XSHE   1.551912\n000333.XSHE   2.383422\n000338.XSHE   0.168452\n...                ...\n601988.XSHG  -0.301064\n601989.XSHG  -1.200671\n601991.XSHG   0.437259\n601992.XSHG  -1.222176\n601998.XSHG  -1.390628\n603000.XSHG   0.634384\n603001.XSHG   2.179128\n603005.XSHG   1.053723\n603019.XSHG  -1.136157\n603025.XSHG   1.329698\n603077.XSHG  -0.358409\n603169.XSHG  -0.390666\n603188.XSHG   0.154116\n603288.XSHG   0.648721\n603328.XSHG   1.265185\n603355.XSHG   1.641514\n603366.XSHG   1.254432\n603369.XSHG   1.136157\n603555.XSHG   1.598505\n603567.XSHG  -0.301064\n603568.XSHG   1.777710\n603589.XSHG   0.759828\n603698.XSHG  -0.648721\n603699.XSHG   0.322568\n603766.XSHG   1.354787\n603806.XSHG   0.279559\n603883.XSHG   0.498189\n603885.XSHG   1.878065\n603899.XSHG   1.777710\n603993.XSHG  -0.207877\n\n[800 rows x 1 columns]",
      "text/html": "<div>\n<style scoped>\n    .dataframe tbody tr th:only-of-type {\n        vertical-align: middle;\n    }\n\n    .dataframe tbody tr th {\n        vertical-align: top;\n    }\n\n    .dataframe thead th {\n        text-align: right;\n    }\n</style>\n<table border=\"1\" class=\"dataframe\">\n  <thead>\n    <tr style=\"text-align: right;\">\n      <th></th>\n      <th>z_quality</th>\n    </tr>\n    <tr>\n      <th>code</th>\n      <th></th>\n    </tr>\n  </thead>\n  <tbody>\n    <tr>\n      <th>000001.XSHE</th>\n      <td>-1.311778</td>\n    </tr>\n    <tr>\n      <th>000002.XSHE</th>\n      <td>-0.304648</td>\n    </tr>\n    <tr>\n      <th>000006.XSHE</th>\n      <td>-0.999962</td>\n    </tr>\n    <tr>\n      <th>000009.XSHE</th>\n      <td>-0.587791</td>\n    </tr>\n    <tr>\n      <th>000012.XSHE</th>\n      <td>0.379914</td>\n    </tr>\n    <tr>\n      <th>000021.XSHE</th>\n      <td>-0.437259</td>\n    </tr>\n    <tr>\n      <th>000027.XSHE</th>\n      <td>0.415755</td>\n    </tr>\n    <tr>\n      <th>000028.XSHE</th>\n      <td>0.817173</td>\n    </tr>\n    <tr>\n      <th>000030.XSHE</th>\n      <td>-0.222214</td>\n    </tr>\n    <tr>\n      <th>000031.XSHE</th>\n      <td>-1.408548</td>\n    </tr>\n    <tr>\n      <th>000039.XSHE</th>\n      <td>-1.455142</td>\n    </tr>\n    <tr>\n      <th>000046.XSHE</th>\n      <td>-1.057307</td>\n    </tr>\n    <tr>\n      <th>000049.XSHE</th>\n      <td>2.351165</td>\n    </tr>\n    <tr>\n      <th>000050.XSHE</th>\n      <td>0.293896</td>\n    </tr>\n    <tr>\n      <th>000060.XSHE</th>\n      <td>-1.093148</td>\n    </tr>\n    <tr>\n      <th>000061.XSHE</th>\n      <td>-0.053761</td>\n    </tr>\n    <tr>\n      <th>000062.XSHE</th>\n      <td>-0.154116</td>\n    </tr>\n    <tr>\n      <th>000063.XSHE</th>\n      <td>-0.580623</td>\n    </tr>\n    <tr>\n      <th>000066.XSHE</th>\n      <td>-0.354825</td>\n    </tr>\n    <tr>\n      <th>000069.XSHE</th>\n      <td>-0.713234</td>\n    </tr>\n    <tr>\n      <th>000078.XSHE</th>\n      <td>-0.670225</td>\n    </tr>\n    <tr>\n      <th>000088.XSHE</th>\n      <td>-1.007130</td>\n    </tr>\n    <tr>\n      <th>000090.XSHE</th>\n      <td>-1.691692</td>\n    </tr>\n    <tr>\n      <th>000099.XSHE</th>\n      <td>0.408587</td>\n    </tr>\n    <tr>\n      <th>000100.XSHE</th>\n      <td>-0.172036</td>\n    </tr>\n    <tr>\n      <th>000156.XSHE</th>\n      <td>0.842262</td>\n    </tr>\n    <tr>\n      <th>000157.XSHE</th>\n      <td>-2.057269</td>\n    </tr>\n    <tr>\n      <th>000166.XSHE</th>\n      <td>1.551912</td>\n    </tr>\n    <tr>\n      <th>000333.XSHE</th>\n      <td>2.383422</td>\n    </tr>\n    <tr>\n      <th>000338.XSHE</th>\n      <td>0.168452</td>\n    </tr>\n    <tr>\n      <th>...</th>\n      <td>...</td>\n    </tr>\n    <tr>\n      <th>601988.XSHG</th>\n      <td>-0.301064</td>\n    </tr>\n    <tr>\n      <th>601989.XSHG</th>\n      <td>-1.200671</td>\n    </tr>\n    <tr>\n      <th>601991.XSHG</th>\n      <td>0.437259</td>\n    </tr>\n    <tr>\n      <th>601992.XSHG</th>\n      <td>-1.222176</td>\n    </tr>\n    <tr>\n      <th>601998.XSHG</th>\n      <td>-1.390628</td>\n    </tr>\n    <tr>\n      <th>603000.XSHG</th>\n      <td>0.634384</td>\n    </tr>\n    <tr>\n      <th>603001.XSHG</th>\n      <td>2.179128</td>\n    </tr>\n    <tr>\n      <th>603005.XSHG</th>\n      <td>1.053723</td>\n    </tr>\n    <tr>\n      <th>603019.XSHG</th>\n      <td>-1.136157</td>\n    </tr>\n    <tr>\n      <th>603025.XSHG</th>\n      <td>1.329698</td>\n    </tr>\n    <tr>\n      <th>603077.XSHG</th>\n      <td>-0.358409</td>\n    </tr>\n    <tr>\n      <th>603169.XSHG</th>\n      <td>-0.390666</td>\n    </tr>\n    <tr>\n      <th>603188.XSHG</th>\n      <td>0.154116</td>\n    </tr>\n    <tr>\n      <th>603288.XSHG</th>\n      <td>0.648721</td>\n    </tr>\n    <tr>\n      <th>603328.XSHG</th>\n      <td>1.265185</td>\n    </tr>\n    <tr>\n      <th>603355.XSHG</th>\n      <td>1.641514</td>\n    </tr>\n    <tr>\n      <th>603366.XSHG</th>\n      <td>1.254432</td>\n    </tr>\n    <tr>\n      <th>603369.XSHG</th>\n      <td>1.136157</td>\n    </tr>\n    <tr>\n      <th>603555.XSHG</th>\n      <td>1.598505</td>\n    </tr>\n    <tr>\n      <th>603567.XSHG</th>\n      <td>-0.301064</td>\n    </tr>\n    <tr>\n      <th>603568.XSHG</th>\n      <td>1.777710</td>\n    </tr>\n    <tr>\n      <th>603589.XSHG</th>\n      <td>0.759828</td>\n    </tr>\n    <tr>\n      <th>603698.XSHG</th>\n      <td>-0.648721</td>\n    </tr>\n    <tr>\n      <th>603699.XSHG</th>\n      <td>0.322568</td>\n    </tr>\n    <tr>\n      <th>603766.XSHG</th>\n      <td>1.354787</td>\n    </tr>\n    <tr>\n      <th>603806.XSHG</th>\n      <td>0.279559</td>\n    </tr>\n    <tr>\n      <th>603883.XSHG</th>\n      <td>0.498189</td>\n    </tr>\n    <tr>\n      <th>603885.XSHG</th>\n      <td>1.878065</td>\n    </tr>\n    <tr>\n      <th>603899.XSHG</th>\n      <td>1.777710</td>\n    </tr>\n    <tr>\n      <th>603993.XSHG</th>\n      <td>-0.207877</td>\n    </tr>\n  </tbody>\n</table>\n<p>800 rows × 1 columns</p>\n</div>"
     },
     "execution_count": 16,
     "metadata": {},
     "output_type": "execute_result"
    }
   ],
   "source": [
    "fac_data['2016-01-04']"
   ],
   "metadata": {
    "collapsed": false,
    "pycharm": {
     "name": "#%%\n"
    }
   }
  },
  {
   "cell_type": "code",
   "execution_count": 17,
   "outputs": [],
   "source": [
    "stocks_list = zz800\n",
    "q = query(income.net_profit,cash_flow.net_operate_cash_flow,balance.code,balance.total_assets).filter(balance.code.in_(stocks_list))"
   ],
   "metadata": {
    "collapsed": false,
    "pycharm": {
     "name": "#%%\n"
    }
   }
  },
  {
   "cell_type": "code",
   "execution_count": 19,
   "outputs": [],
   "source": [
    "context_s = pd.Timestamp('2016-01-04')\n",
    "year = context_s.year - 1\n",
    "# 获取上年末数据\n",
    "df_gpoa = diewei.get_fundamentals(q, statDate = str(year))"
   ],
   "metadata": {
    "collapsed": false,
    "pycharm": {
     "name": "#%%\n"
    }
   }
  },
  {
   "cell_type": "code",
   "execution_count": 20,
   "outputs": [
    {
     "data": {
      "text/plain": "       net_profit  net_operate_cash_flow         code  total_assets\n0    2.186500e+10          -1.826000e+09  000001.XSHE  2.507149e+12\n1    2.594944e+10           1.604602e+10  000002.XSHE  6.112956e+11\n2    1.899092e+08          -7.246238e+07  000008.XSHE  3.589355e+09\n3    9.658984e+08           1.258639e+07  000009.XSHE  1.811490e+10\n4    6.398326e+08           1.092833e+09  000012.XSHE  1.548960e+10\n5    1.806603e+08           4.904612e+08  000021.XSHE  1.433752e+10\n6    2.057693e+09           3.835384e+09  000027.XSHE  5.806743e+10\n7    7.873479e+08           1.047979e+09  000028.XSHE  1.321835e+10\n8    1.001222e+09          -1.540483e+09  000031.XSHE  5.702255e+10\n9    2.271961e+09          -3.610223e+09  000039.XSHE  1.067632e+11\n10   2.366456e+09          -1.786344e+08  000046.XSHE  1.183562e+11\n11   5.555732e+08           4.459078e+09  000050.XSHE  2.162869e+10\n12   2.607205e+08           3.350157e+08  000060.XSHE  1.588284e+10\n13   4.426678e+07           1.162634e+09  000061.XSHE  1.613148e+10\n14   3.737104e+08           1.616254e+08  000062.XSHE  6.182360e+09\n15   3.740270e+09           7.404665e+09  000063.XSHE  1.208939e+11\n16  -1.948097e+08           1.687412e+09  000066.XSHE  3.945607e+10\n17   5.243327e+09          -1.872301e+09  000069.XSHE  1.152662e+11\n18   5.184880e+08           9.050711e+07  000078.XSHE  1.276226e+10\n19   5.329383e+08           1.182911e+09  000089.XSHE  1.195502e+10\n20   3.923832e+08          -2.193142e+09  000090.XSHE  1.655382e+10\n21   3.230009e+09           7.394075e+09  000100.XSHE  1.117548e+11\n22   5.325751e+08           1.206790e+09  000156.XSHE  1.267500e+10\n23   9.115742e+07          -3.334495e+09  000157.XSHE  9.372302e+10\n24   2.487216e+08          -4.890987e+08  000158.XSHE  1.094186e+10\n25   1.242844e+10           5.046450e+10  000166.XSHE  3.335695e+11\n26   1.671310e+08           2.218576e+08  000301.XSHE  4.397330e+09\n27   1.362465e+10           2.676425e+10  000333.XSHE  1.288419e+11\n28   2.162674e+09           6.773902e+09  000338.XSHE  1.148734e+11\n29   8.058611e+08           5.033074e+08  000400.XSHE  1.248734e+10\n..            ...                    ...          ...           ...\n639  2.288860e+11           6.334940e+11  601939.XSHG  1.834949e+13\n640  2.766718e+07           1.560310e+08  601958.XSHG  1.633469e+10\n641  1.019144e+07          -1.109955e+08  601969.XSHG  5.779807e+09\n642  7.108764e+09           1.696390e+10  601985.XSHG  2.632230e+11\n643  1.794170e+11           6.720940e+11  601988.XSHG  1.681560e+13\n644 -3.248290e+09          -6.116472e+08  601989.XSHG  2.076377e+11\n645  1.951068e+09          -6.526357e+08  601992.XSHG  1.307467e+11\n646  4.174000e+10          -2.083500e+10  601998.XSHG  5.122292e+12\n647  3.922837e+08           3.649925e+08  603000.XSHG  3.603560e+09\n648  1.795274e+08           2.986914e+07  603019.XSHG  4.621429e+09\n649  2.387324e+08           4.491973e+08  603077.XSHG  1.119744e+10\n650  5.303991e+08           3.998364e+08  603198.XSHG  5.248631e+09\n651  2.509632e+09           2.194832e+09  603288.XSHG  1.149800e+10\n652  4.673414e+08           5.669381e+08  603328.XSHG  5.207682e+09\n653  1.257505e+08           1.123594e+08  603338.XSHG  1.094930e+09\n654  3.635851e+08           4.957369e+08  603355.XSHG  3.719992e+09\n655  6.825148e+08           7.022154e+08  603369.XSHG  5.423389e+09\n656  3.159580e+08           3.463631e+08  603377.XSHG  1.672911e+09\n657  2.913526e+08           4.574721e+08  603568.XSHG  3.023537e+09\n658  6.053969e+08           5.361969e+08  603589.XSHG  4.976619e+09\n659 -2.540637e+08          -4.516636e+08  603799.XSHG  9.572280e+09\n660  6.472927e+08           4.159461e+08  603806.XSHG  4.834987e+09\n661  3.469551e+08           4.274355e+08  603866.XSHG  2.144813e+09\n662  2.777331e+08           2.571493e+08  603883.XSHG  3.800577e+09\n663  1.028065e+09           1.975629e+09  603885.XSHG  1.340457e+10\n664  4.070532e+08           4.972656e+08  603899.XSHG  2.902140e+09\n665  7.031084e+08           1.358772e+09  603993.XSHG  3.088053e+10\n666  2.344120e+08           1.723926e+08  601360.XSHG  2.806527e+09\n667  6.527176e+08           9.778508e+08  001872.XSHE  6.913773e+09\n668  3.707109e+08           5.390426e+08  001914.XSHE  2.288102e+10\n\n[669 rows x 4 columns]",
      "text/html": "<div>\n<style scoped>\n    .dataframe tbody tr th:only-of-type {\n        vertical-align: middle;\n    }\n\n    .dataframe tbody tr th {\n        vertical-align: top;\n    }\n\n    .dataframe thead th {\n        text-align: right;\n    }\n</style>\n<table border=\"1\" class=\"dataframe\">\n  <thead>\n    <tr style=\"text-align: right;\">\n      <th></th>\n      <th>net_profit</th>\n      <th>net_operate_cash_flow</th>\n      <th>code</th>\n      <th>total_assets</th>\n    </tr>\n  </thead>\n  <tbody>\n    <tr>\n      <th>0</th>\n      <td>2.186500e+10</td>\n      <td>-1.826000e+09</td>\n      <td>000001.XSHE</td>\n      <td>2.507149e+12</td>\n    </tr>\n    <tr>\n      <th>1</th>\n      <td>2.594944e+10</td>\n      <td>1.604602e+10</td>\n      <td>000002.XSHE</td>\n      <td>6.112956e+11</td>\n    </tr>\n    <tr>\n      <th>2</th>\n      <td>1.899092e+08</td>\n      <td>-7.246238e+07</td>\n      <td>000008.XSHE</td>\n      <td>3.589355e+09</td>\n    </tr>\n    <tr>\n      <th>3</th>\n      <td>9.658984e+08</td>\n      <td>1.258639e+07</td>\n      <td>000009.XSHE</td>\n      <td>1.811490e+10</td>\n    </tr>\n    <tr>\n      <th>4</th>\n      <td>6.398326e+08</td>\n      <td>1.092833e+09</td>\n      <td>000012.XSHE</td>\n      <td>1.548960e+10</td>\n    </tr>\n    <tr>\n      <th>5</th>\n      <td>1.806603e+08</td>\n      <td>4.904612e+08</td>\n      <td>000021.XSHE</td>\n      <td>1.433752e+10</td>\n    </tr>\n    <tr>\n      <th>6</th>\n      <td>2.057693e+09</td>\n      <td>3.835384e+09</td>\n      <td>000027.XSHE</td>\n      <td>5.806743e+10</td>\n    </tr>\n    <tr>\n      <th>7</th>\n      <td>7.873479e+08</td>\n      <td>1.047979e+09</td>\n      <td>000028.XSHE</td>\n      <td>1.321835e+10</td>\n    </tr>\n    <tr>\n      <th>8</th>\n      <td>1.001222e+09</td>\n      <td>-1.540483e+09</td>\n      <td>000031.XSHE</td>\n      <td>5.702255e+10</td>\n    </tr>\n    <tr>\n      <th>9</th>\n      <td>2.271961e+09</td>\n      <td>-3.610223e+09</td>\n      <td>000039.XSHE</td>\n      <td>1.067632e+11</td>\n    </tr>\n    <tr>\n      <th>10</th>\n      <td>2.366456e+09</td>\n      <td>-1.786344e+08</td>\n      <td>000046.XSHE</td>\n      <td>1.183562e+11</td>\n    </tr>\n    <tr>\n      <th>11</th>\n      <td>5.555732e+08</td>\n      <td>4.459078e+09</td>\n      <td>000050.XSHE</td>\n      <td>2.162869e+10</td>\n    </tr>\n    <tr>\n      <th>12</th>\n      <td>2.607205e+08</td>\n      <td>3.350157e+08</td>\n      <td>000060.XSHE</td>\n      <td>1.588284e+10</td>\n    </tr>\n    <tr>\n      <th>13</th>\n      <td>4.426678e+07</td>\n      <td>1.162634e+09</td>\n      <td>000061.XSHE</td>\n      <td>1.613148e+10</td>\n    </tr>\n    <tr>\n      <th>14</th>\n      <td>3.737104e+08</td>\n      <td>1.616254e+08</td>\n      <td>000062.XSHE</td>\n      <td>6.182360e+09</td>\n    </tr>\n    <tr>\n      <th>15</th>\n      <td>3.740270e+09</td>\n      <td>7.404665e+09</td>\n      <td>000063.XSHE</td>\n      <td>1.208939e+11</td>\n    </tr>\n    <tr>\n      <th>16</th>\n      <td>-1.948097e+08</td>\n      <td>1.687412e+09</td>\n      <td>000066.XSHE</td>\n      <td>3.945607e+10</td>\n    </tr>\n    <tr>\n      <th>17</th>\n      <td>5.243327e+09</td>\n      <td>-1.872301e+09</td>\n      <td>000069.XSHE</td>\n      <td>1.152662e+11</td>\n    </tr>\n    <tr>\n      <th>18</th>\n      <td>5.184880e+08</td>\n      <td>9.050711e+07</td>\n      <td>000078.XSHE</td>\n      <td>1.276226e+10</td>\n    </tr>\n    <tr>\n      <th>19</th>\n      <td>5.329383e+08</td>\n      <td>1.182911e+09</td>\n      <td>000089.XSHE</td>\n      <td>1.195502e+10</td>\n    </tr>\n    <tr>\n      <th>20</th>\n      <td>3.923832e+08</td>\n      <td>-2.193142e+09</td>\n      <td>000090.XSHE</td>\n      <td>1.655382e+10</td>\n    </tr>\n    <tr>\n      <th>21</th>\n      <td>3.230009e+09</td>\n      <td>7.394075e+09</td>\n      <td>000100.XSHE</td>\n      <td>1.117548e+11</td>\n    </tr>\n    <tr>\n      <th>22</th>\n      <td>5.325751e+08</td>\n      <td>1.206790e+09</td>\n      <td>000156.XSHE</td>\n      <td>1.267500e+10</td>\n    </tr>\n    <tr>\n      <th>23</th>\n      <td>9.115742e+07</td>\n      <td>-3.334495e+09</td>\n      <td>000157.XSHE</td>\n      <td>9.372302e+10</td>\n    </tr>\n    <tr>\n      <th>24</th>\n      <td>2.487216e+08</td>\n      <td>-4.890987e+08</td>\n      <td>000158.XSHE</td>\n      <td>1.094186e+10</td>\n    </tr>\n    <tr>\n      <th>25</th>\n      <td>1.242844e+10</td>\n      <td>5.046450e+10</td>\n      <td>000166.XSHE</td>\n      <td>3.335695e+11</td>\n    </tr>\n    <tr>\n      <th>26</th>\n      <td>1.671310e+08</td>\n      <td>2.218576e+08</td>\n      <td>000301.XSHE</td>\n      <td>4.397330e+09</td>\n    </tr>\n    <tr>\n      <th>27</th>\n      <td>1.362465e+10</td>\n      <td>2.676425e+10</td>\n      <td>000333.XSHE</td>\n      <td>1.288419e+11</td>\n    </tr>\n    <tr>\n      <th>28</th>\n      <td>2.162674e+09</td>\n      <td>6.773902e+09</td>\n      <td>000338.XSHE</td>\n      <td>1.148734e+11</td>\n    </tr>\n    <tr>\n      <th>29</th>\n      <td>8.058611e+08</td>\n      <td>5.033074e+08</td>\n      <td>000400.XSHE</td>\n      <td>1.248734e+10</td>\n    </tr>\n    <tr>\n      <th>...</th>\n      <td>...</td>\n      <td>...</td>\n      <td>...</td>\n      <td>...</td>\n    </tr>\n    <tr>\n      <th>639</th>\n      <td>2.288860e+11</td>\n      <td>6.334940e+11</td>\n      <td>601939.XSHG</td>\n      <td>1.834949e+13</td>\n    </tr>\n    <tr>\n      <th>640</th>\n      <td>2.766718e+07</td>\n      <td>1.560310e+08</td>\n      <td>601958.XSHG</td>\n      <td>1.633469e+10</td>\n    </tr>\n    <tr>\n      <th>641</th>\n      <td>1.019144e+07</td>\n      <td>-1.109955e+08</td>\n      <td>601969.XSHG</td>\n      <td>5.779807e+09</td>\n    </tr>\n    <tr>\n      <th>642</th>\n      <td>7.108764e+09</td>\n      <td>1.696390e+10</td>\n      <td>601985.XSHG</td>\n      <td>2.632230e+11</td>\n    </tr>\n    <tr>\n      <th>643</th>\n      <td>1.794170e+11</td>\n      <td>6.720940e+11</td>\n      <td>601988.XSHG</td>\n      <td>1.681560e+13</td>\n    </tr>\n    <tr>\n      <th>644</th>\n      <td>-3.248290e+09</td>\n      <td>-6.116472e+08</td>\n      <td>601989.XSHG</td>\n      <td>2.076377e+11</td>\n    </tr>\n    <tr>\n      <th>645</th>\n      <td>1.951068e+09</td>\n      <td>-6.526357e+08</td>\n      <td>601992.XSHG</td>\n      <td>1.307467e+11</td>\n    </tr>\n    <tr>\n      <th>646</th>\n      <td>4.174000e+10</td>\n      <td>-2.083500e+10</td>\n      <td>601998.XSHG</td>\n      <td>5.122292e+12</td>\n    </tr>\n    <tr>\n      <th>647</th>\n      <td>3.922837e+08</td>\n      <td>3.649925e+08</td>\n      <td>603000.XSHG</td>\n      <td>3.603560e+09</td>\n    </tr>\n    <tr>\n      <th>648</th>\n      <td>1.795274e+08</td>\n      <td>2.986914e+07</td>\n      <td>603019.XSHG</td>\n      <td>4.621429e+09</td>\n    </tr>\n    <tr>\n      <th>649</th>\n      <td>2.387324e+08</td>\n      <td>4.491973e+08</td>\n      <td>603077.XSHG</td>\n      <td>1.119744e+10</td>\n    </tr>\n    <tr>\n      <th>650</th>\n      <td>5.303991e+08</td>\n      <td>3.998364e+08</td>\n      <td>603198.XSHG</td>\n      <td>5.248631e+09</td>\n    </tr>\n    <tr>\n      <th>651</th>\n      <td>2.509632e+09</td>\n      <td>2.194832e+09</td>\n      <td>603288.XSHG</td>\n      <td>1.149800e+10</td>\n    </tr>\n    <tr>\n      <th>652</th>\n      <td>4.673414e+08</td>\n      <td>5.669381e+08</td>\n      <td>603328.XSHG</td>\n      <td>5.207682e+09</td>\n    </tr>\n    <tr>\n      <th>653</th>\n      <td>1.257505e+08</td>\n      <td>1.123594e+08</td>\n      <td>603338.XSHG</td>\n      <td>1.094930e+09</td>\n    </tr>\n    <tr>\n      <th>654</th>\n      <td>3.635851e+08</td>\n      <td>4.957369e+08</td>\n      <td>603355.XSHG</td>\n      <td>3.719992e+09</td>\n    </tr>\n    <tr>\n      <th>655</th>\n      <td>6.825148e+08</td>\n      <td>7.022154e+08</td>\n      <td>603369.XSHG</td>\n      <td>5.423389e+09</td>\n    </tr>\n    <tr>\n      <th>656</th>\n      <td>3.159580e+08</td>\n      <td>3.463631e+08</td>\n      <td>603377.XSHG</td>\n      <td>1.672911e+09</td>\n    </tr>\n    <tr>\n      <th>657</th>\n      <td>2.913526e+08</td>\n      <td>4.574721e+08</td>\n      <td>603568.XSHG</td>\n      <td>3.023537e+09</td>\n    </tr>\n    <tr>\n      <th>658</th>\n      <td>6.053969e+08</td>\n      <td>5.361969e+08</td>\n      <td>603589.XSHG</td>\n      <td>4.976619e+09</td>\n    </tr>\n    <tr>\n      <th>659</th>\n      <td>-2.540637e+08</td>\n      <td>-4.516636e+08</td>\n      <td>603799.XSHG</td>\n      <td>9.572280e+09</td>\n    </tr>\n    <tr>\n      <th>660</th>\n      <td>6.472927e+08</td>\n      <td>4.159461e+08</td>\n      <td>603806.XSHG</td>\n      <td>4.834987e+09</td>\n    </tr>\n    <tr>\n      <th>661</th>\n      <td>3.469551e+08</td>\n      <td>4.274355e+08</td>\n      <td>603866.XSHG</td>\n      <td>2.144813e+09</td>\n    </tr>\n    <tr>\n      <th>662</th>\n      <td>2.777331e+08</td>\n      <td>2.571493e+08</td>\n      <td>603883.XSHG</td>\n      <td>3.800577e+09</td>\n    </tr>\n    <tr>\n      <th>663</th>\n      <td>1.028065e+09</td>\n      <td>1.975629e+09</td>\n      <td>603885.XSHG</td>\n      <td>1.340457e+10</td>\n    </tr>\n    <tr>\n      <th>664</th>\n      <td>4.070532e+08</td>\n      <td>4.972656e+08</td>\n      <td>603899.XSHG</td>\n      <td>2.902140e+09</td>\n    </tr>\n    <tr>\n      <th>665</th>\n      <td>7.031084e+08</td>\n      <td>1.358772e+09</td>\n      <td>603993.XSHG</td>\n      <td>3.088053e+10</td>\n    </tr>\n    <tr>\n      <th>666</th>\n      <td>2.344120e+08</td>\n      <td>1.723926e+08</td>\n      <td>601360.XSHG</td>\n      <td>2.806527e+09</td>\n    </tr>\n    <tr>\n      <th>667</th>\n      <td>6.527176e+08</td>\n      <td>9.778508e+08</td>\n      <td>001872.XSHE</td>\n      <td>6.913773e+09</td>\n    </tr>\n    <tr>\n      <th>668</th>\n      <td>3.707109e+08</td>\n      <td>5.390426e+08</td>\n      <td>001914.XSHE</td>\n      <td>2.288102e+10</td>\n    </tr>\n  </tbody>\n</table>\n<p>669 rows × 4 columns</p>\n</div>"
     },
     "execution_count": 20,
     "metadata": {},
     "output_type": "execute_result"
    }
   ],
   "source": [
    "df_gpoa"
   ],
   "metadata": {
    "collapsed": false,
    "pycharm": {
     "name": "#%%\n"
    }
   }
  },
  {
   "cell_type": "code",
   "execution_count": null,
   "outputs": [],
   "source": [],
   "metadata": {
    "collapsed": false,
    "pycharm": {
     "name": "#%%\n"
    }
   }
  }
 ],
 "metadata": {
  "kernelspec": {
   "name": "alpha",
   "language": "python",
   "display_name": "Python (alpha)"
  },
  "language_info": {
   "codemirror_mode": {
    "name": "ipython",
    "version": 2
   },
   "file_extension": ".py",
   "mimetype": "text/x-python",
   "name": "python",
   "nbconvert_exporter": "python",
   "pygments_lexer": "ipython2",
   "version": "2.7.6"
  }
 },
 "nbformat": 4,
 "nbformat_minor": 0
}